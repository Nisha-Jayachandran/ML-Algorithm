{
  "nbformat": 4,
  "nbformat_minor": 0,
  "metadata": {
    "colab": {
      "provenance": []
    },
    "kernelspec": {
      "name": "python3",
      "display_name": "Python 3"
    },
    "language_info": {
      "name": "python"
    }
  },
  "cells": [
    {
      "cell_type": "code",
      "execution_count": 9,
      "metadata": {
        "colab": {
          "base_uri": "https://localhost:8080/"
        },
        "id": "Z69DPhxSXgpb",
        "outputId": "75760b34-a89a-4112-9e31-763cc36c13ae"
      },
      "outputs": [
        {
          "output_type": "stream",
          "name": "stdout",
          "text": [
            "Predicted Price: 22.0\n"
          ]
        }
      ],
      "source": [
        "import pandas as pd\n",
        "from sklearn.tree import DecisionTreeRegressor\n",
        "\n",
        "data = pd.read_csv(\"tomato_price.csv\")\n",
        "\n",
        "x= data[[\"variety\",\"rainfall\",\"temperature\",\"PH_of_soil\",\"transportation_cost\",\"irrigation_taken_days\",\"fruiting_months\",\"spraying_of_monocrotophos \",\"storage_life(days)\",\"transplantating(days)\",\"water_necessary_days\",\"nitrogen\",\"phosphorus\",\"potassium\" ,\"calcium\" ,\"magnesium \" ,\"sulphur\",\"manganesa\"  ,\"iron\" ,\"boron\" , \"copper\" ,\"zinc\" ,\"gibberllic_acid(ppm)\" ,\"metribuzin(kg/ha)\",\"fluchloralin(kg/ha)\" ,\"spraying_of_PCPA\" ,\"IAA\",\"spraying_of_cypernethrin\" ,\"distance_required_for_tomato\"]]\n",
        "y= data[[\"price\"]]\n",
        "\n",
        "model = DecisionTreeRegressor()\n",
        "\n",
        "model.fit(x, y)\n",
        "\n",
        "new_data = pd.DataFrame({\n",
        "    \"variety\": [0],\n",
        "    \"rainfall\": [130],\n",
        "    \"temperature\": [32],\n",
        "    \"PH_of_soil\": [6.8],\n",
        "    \"transportation_cost\": [1.47],\n",
        "    \"irrigation_taken_days\": [3],\n",
        "    \"fruiting_months\": [2],\n",
        "    \"spraying_of_monocrotophos \": [5],\n",
        "    \"storage_life(days)\": [11],\n",
        "    \"transplantating(days)\": [82],\n",
        "    \"water_necessary_days\": [13],\n",
        "    \"nitrogen\": [5],\n",
        "    \"phosphorus\": [0.53],\n",
        "    \"potassium\": [3.65] ,\n",
        "    \"calcium\": [2.63] ,\n",
        "    \"magnesium \": [0.62] ,\n",
        "    \"sulphur\" : [1],\n",
        "    \"manganesa\" : [49] ,\n",
        "    \"iron\": [47] ,\n",
        "    \"boron\": [52] ,\n",
        "    \"copper\": [8] ,\n",
        "    \"zinc\": [66] ,\n",
        "    \"gibberllic_acid(ppm)\": [15] ,\n",
        "    \"metribuzin(kg/ha)\": [0.35],\n",
        "    \"fluchloralin(kg/ha)\": [1.25] ,\n",
        "    \"spraying_of_PCPA\": [50] ,\n",
        "    \"IAA\": [50],\n",
        "    \"spraying_of_cypernethrin\": [3] ,\n",
        "    \"distance_required_for_tomato\": [32]\n",
        "})\n",
        "\n",
        "\n",
        "predicted_price = model.predict(new_data)\n",
        "print(\"Predicted Price:\", predicted_price[0])"
      ]
    },
    {
      "cell_type": "code",
      "source": [
        "from sklearn.tree import DecisionTreeRegressor\n",
        "from sklearn.metrics import r2_score\n",
        "\n",
        "decision_tree_model = DecisionTreeRegressor()\n",
        "\n",
        "decision_tree_model.fit(x, y)\n",
        "\n",
        "\n",
        "y_pred_decision_tree = decision_tree_model.predict(x)\n",
        "\n",
        "\n",
        "decision_tree_r2 = r2_score(y, y_pred_decision_tree)\n",
        "\n",
        "print(\"Decision Tree Regression R-squared:\", decision_tree_r2)"
      ],
      "metadata": {
        "colab": {
          "base_uri": "https://localhost:8080/"
        },
        "id": "pQpmW6NUZupP",
        "outputId": "2ecb6ed5-59d5-4b94-f15c-ae5a22bb5fa7"
      },
      "execution_count": 10,
      "outputs": [
        {
          "output_type": "stream",
          "name": "stdout",
          "text": [
            "Decision Tree Regression R-squared: 1.0\n"
          ]
        }
      ]
    },
    {
      "cell_type": "code",
      "source": [],
      "metadata": {
        "id": "IOckTU97eMnF"
      },
      "execution_count": null,
      "outputs": []
    }
  ]
}