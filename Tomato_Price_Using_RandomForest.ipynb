{
  "nbformat": 4,
  "nbformat_minor": 0,
  "metadata": {
    "colab": {
      "provenance": []
    },
    "kernelspec": {
      "name": "python3",
      "display_name": "Python 3"
    },
    "language_info": {
      "name": "python"
    }
  },
  "cells": [
    {
      "cell_type": "code",
      "execution_count": 1,
      "metadata": {
        "colab": {
          "base_uri": "https://localhost:8080/"
        },
        "id": "yrR0Pdz4epg5",
        "outputId": "817e4bc8-d70a-43af-e8e3-0c9f47f94faf"
      },
      "outputs": [
        {
          "output_type": "stream",
          "name": "stderr",
          "text": [
            "<ipython-input-1-cbb2ede80064>:11: DataConversionWarning: A column-vector y was passed when a 1d array was expected. Please change the shape of y to (n_samples,), for example using ravel().\n",
            "  model.fit(x, y)\n"
          ]
        },
        {
          "output_type": "stream",
          "name": "stdout",
          "text": [
            "Predicted Price: 34.78\n"
          ]
        }
      ],
      "source": [
        "import pandas as pd\n",
        "from sklearn.ensemble import RandomForestRegressor\n",
        "\n",
        "data = pd.read_csv(\"tomato_price.csv\")\n",
        "\n",
        "x= data[[\"variety\",\"rainfall\",\"temperature\",\"PH_of_soil\",\"transportation_cost\",\"irrigation_taken_days\",\"fruiting_months\",\"spraying_of_monocrotophos \",\"storage_life(days)\",\"transplantating(days)\",\"water_necessary_days\",\"nitrogen\",\"phosphorus\",\"potassium\" ,\"calcium\" ,\"magnesium \" ,\"sulphur\",\"manganesa\"  ,\"iron\" ,\"boron\" , \"copper\" ,\"zinc\" ,\"gibberllic_acid(ppm)\" ,\"metribuzin(kg/ha)\",\"fluchloralin(kg/ha)\" ,\"spraying_of_PCPA\" ,\"IAA\",\"spraying_of_cypernethrin\" ,\"distance_required_for_tomato\"]]\n",
        "y= data[[\"price\"]]\n",
        "\n",
        "model = RandomForestRegressor()\n",
        "\n",
        "model.fit(x, y)\n",
        "\n",
        "new_data = pd.DataFrame({\n",
        "    \"variety\": [0],\n",
        "    \"rainfall\": [130],\n",
        "    \"temperature\": [32],\n",
        "    \"PH_of_soil\": [6.8],\n",
        "    \"transportation_cost\": [1.47],\n",
        "    \"irrigation_taken_days\": [3],\n",
        "    \"fruiting_months\": [2],\n",
        "    \"spraying_of_monocrotophos \": [5],\n",
        "    \"storage_life(days)\": [11],\n",
        "    \"transplantating(days)\": [82],\n",
        "    \"water_necessary_days\": [13],\n",
        "    \"nitrogen\": [5],\n",
        "    \"phosphorus\": [0.53],\n",
        "    \"potassium\": [3.65] ,\n",
        "    \"calcium\": [2.63] ,\n",
        "    \"magnesium \": [0.62] ,\n",
        "    \"sulphur\" : [1],\n",
        "    \"manganesa\" : [49] ,\n",
        "    \"iron\": [47] ,\n",
        "    \"boron\": [52] ,\n",
        "    \"copper\": [8] ,\n",
        "    \"zinc\": [66] ,\n",
        "    \"gibberllic_acid(ppm)\": [15] ,\n",
        "    \"metribuzin(kg/ha)\": [0.35],\n",
        "    \"fluchloralin(kg/ha)\": [1.25] ,\n",
        "    \"spraying_of_PCPA\": [50] ,\n",
        "    \"IAA\": [50],\n",
        "    \"spraying_of_cypernethrin\": [3] ,\n",
        "    \"distance_required_for_tomato\": [32]\n",
        "})\n",
        "\n",
        "predicted_price = model.predict(new_data)\n",
        "print(\"Predicted Price:\", predicted_price[0])"
      ]
    },
    {
      "cell_type": "code",
      "source": [
        "from sklearn.ensemble import RandomForestRegressor\n",
        "from sklearn.metrics import r2_score\n",
        "\n",
        "random_forest_model = RandomForestRegressor()\n",
        "\n",
        "random_forest_model.fit(x, y)\n",
        "\n",
        "y_pred_random_forest = random_forest_model.predict(x)\n",
        "\n",
        "random_forest_r2 = r2_score(y, y_pred_random_forest)\n",
        "\n",
        "print(\"Random Forest Regression R-squared:\", random_forest_r2)"
      ],
      "metadata": {
        "colab": {
          "base_uri": "https://localhost:8080/"
        },
        "id": "z87FcReufGXz",
        "outputId": "27e541a0-148f-4abd-8946-518e2606b895"
      },
      "execution_count": 2,
      "outputs": [
        {
          "output_type": "stream",
          "name": "stderr",
          "text": [
            "<ipython-input-2-6727794c021b>:6: DataConversionWarning: A column-vector y was passed when a 1d array was expected. Please change the shape of y to (n_samples,), for example using ravel().\n",
            "  random_forest_model.fit(x, y)\n"
          ]
        },
        {
          "output_type": "stream",
          "name": "stdout",
          "text": [
            "Random Forest Regression R-squared: 0.843445418124513\n"
          ]
        }
      ]
    }
  ]
}