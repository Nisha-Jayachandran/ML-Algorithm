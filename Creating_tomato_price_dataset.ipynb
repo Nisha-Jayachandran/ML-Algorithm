{
  "nbformat": 4,
  "nbformat_minor": 0,
  "metadata": {
    "colab": {
      "provenance": []
    },
    "kernelspec": {
      "name": "python3",
      "display_name": "Python 3"
    },
    "language_info": {
      "name": "python"
    }
  },
  "cells": [
    {
      "cell_type": "code",
      "execution_count": null,
      "metadata": {
        "colab": {
          "base_uri": "https://localhost:8080/"
        },
        "id": "33Iwj3TsoVyc",
        "outputId": "9b9d728a-41c4-4088-bbf7-227617dc0cdc"
      },
      "outputs": [
        {
          "output_type": "stream",
          "name": "stdout",
          "text": [
            "Data saved successfully as tomato_price.csv\n"
          ]
        }
      ],
      "source": [
        "import csv\n",
        "import random\n",
        "from datetime import datetime, timedelta\n",
        "\n",
        "# Generating synthetic data for onion price prediction\n",
        "def generate_tomato_price(num_rows):\n",
        "    data = []\n",
        "    current_date = datetime.now()\n",
        "    end_date = datetime(current_date.year, current_date.month, 1)  # Current month before the month of execution\n",
        "\n",
        "    start_date = datetime(2000, 1, 1)  # Start date from 2014\n",
        "    for i in range(num_rows):\n",
        "        current_date = start_date + timedelta(days=i*30)  # Adding 30 days interval for each row\n",
        "        if current_date >= end_date:\n",
        "            break\n",
        "        month_year = current_date.strftime(\"%b/%Y\")  # Format the date as month/year\n",
        "\n",
        "        variety = random.randint(0, 1)\n",
        "        rainfall = random.randint(50, 250)\n",
        "        temperature = random.randint(20, 35)\n",
        "        PH_of_soil = random.randint(6.0, 7.0)\n",
        "        transportation_cost = round(random.uniform(1.1, 1.5), 2)\n",
        "        irrigation_taken_days = random.randint(3, 4)\n",
        "        seed_rate = random.randint(400, 500)\n",
        "        fruiting_months = random.randint(1, 2)\n",
        "        production_per_acre = random.randint(8, 12)\n",
        "        spraying_of_monocrotophos = random.randint(5,5)\n",
        "        relative_humidity = random.randint(85, 90)\n",
        "        storage_life = random.randint(1,14)\n",
        "        transplantating = random.randint(75, 80)\n",
        "        water_necessary_days = random.randint(10, 15)\n",
        "        nitrogen = random.randint(4, 5)\n",
        "        phosphorus = random.uniform(0.30, 0.60)\n",
        "        potassium = random.uniform(3.0, 4.5)\n",
        "        calcium = random.uniform(1.25, 3.2)\n",
        "        magnesium = random.uniform(0.4, 0.65)\n",
        "        sulphur = random.uniform(0.65, 1.4)\n",
        "        manganesa = random.randint(30, 400)\n",
        "        iron = random.randint(30, 300)\n",
        "        boron = random.randint(20, 60)\n",
        "        copper = random.randint(5, 15)\n",
        "        zinc = random.randint(30, 90)\n",
        "        gibberllic_acid = random.randint(5, 20)\n",
        "        metribuzin = round(0.35)\n",
        "        fluchloralin = round(1.25)\n",
        "        spraying_of_PCPA = round(50)\n",
        "        IAA = round(50)\n",
        "        spraying_of_cypernethrin = random.randint(3, 4)\n",
        "        distance_required_for_tomato = random.randint(24, 36)\n",
        "        price = random.randint(20, 50)\n",
        "\n",
        "        row = [month_year,variety,rainfall,temperature,PH_of_soil,transportation_cost,irrigation_taken_days,seed_rate,fruiting_months,production_per_acre ,spraying_of_monocrotophos ,relative_humidity ,storage_life,transplantating,water_necessary_days,nitrogen,phosphorus,potassium ,calcium ,magnesium  ,sulphur,manganesa  ,iron ,boron , copper ,zinc ,gibberllic_acid ,metribuzin,fluchloralin ,spraying_of_PCPA ,IAA,spraying_of_cypernethrin ,distance_required_for_tomato , price]\n",
        "        data.append(row)\n",
        "\n",
        "    return data\n",
        "\n",
        "# Generate synthetic tomato data\n",
        "num_rows = 5000\n",
        "synthetic_data = generate_tomato_price(num_rows)\n",
        "\n",
        "# Save the synthetic data as a CSV file\n",
        "filename = \"tomato_price.csv\"\n",
        "header = [\"month_year\",\"variety\",\"rainfall\",\"temperature\",\"PH_of_soil\",\"transportation_cost\",\"irrigation_taken_days\",\"seed_rate\",\"fruiting_months\",\"production_per_acre \",\"spraying_of_monocrotophos \",\"relative_humidity(%)\" ,\"storage_life(days)\",\"transplantating(days)\",\"water_necessary_days\",\"nitrogen\",\"phosphorus\",\"potassium\" ,\"calcium\" ,\"magnesium \" ,\"sulphur\",\"manganesa\"  ,\"iron\" ,\"boron\" , \"copper\" ,\"zinc\" ,\"gibberllic_acid(ppm)\" ,\"metribuzin(kg/ha)\",\"fluchloralin(kg/ha)\" ,\"spraying_of_PCPA\" ,\"IAA\",\"spraying_of_cypernethrin\" ,\"distance_required_for_tomato\" , \"price\"]\n",
        "\n",
        "with open(filename, 'w', newline='') as csvfile:\n",
        "    writer = csv.writer(csvfile)\n",
        "    writer.writerow(header)\n",
        "    writer.writerows(synthetic_data)\n",
        "\n",
        "print(\"Data saved successfully as\", filename)"
      ]
    }
  ]
}